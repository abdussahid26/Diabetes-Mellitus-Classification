{
 "cells": [
  {
   "cell_type": "code",
   "execution_count": 1,
   "id": "dde39d60-38d8-4cbb-b73d-b237183bd723",
   "metadata": {},
   "outputs": [],
   "source": [
    "import pandas as pd\n",
    "import numpy as np\n",
    "from sklearn import preprocessing\n",
    "from sklearn import svm\n",
    "from sklearn.model_selection import KFold\n",
    "from sklearn.ensemble import RandomForestClassifier\n",
    "from sklearn.metrics import make_scorer, accuracy_score, precision_score, recall_score, f1_score\n",
    "from sklearn.model_selection import cross_val_score\n",
    "from sklearn.linear_model import LogisticRegression\n",
    "from sklearn.metrics import precision_recall_fscore_support\n",
    "from sklearn.model_selection import StratifiedKFold\n",
    "\n",
    "data = pd.read_csv(\"Extremely Imbalance Without Duplicate Sample.csv\")\n",
    "# data = pd.read_csv(\"Moderately Imbalance Without Duplicate Sample.csv\")"
   ]
  },
  {
   "cell_type": "markdown",
   "id": "8c6992c2-0982-4ce4-a313-2a8ae45ba0a4",
   "metadata": {},
   "source": [
    "# **Data Preprocessing**"
   ]
  },
  {
   "cell_type": "code",
   "execution_count": 2,
   "id": "5db42f09-c767-4702-ab30-ffc671a7eb78",
   "metadata": {},
   "outputs": [],
   "source": [
    "Column = ['AGE', 'Urea', 'Cr', 'HbA1c', 'Chol', 'TG', 'HDL', 'LDL', 'VLDL', 'BMI']\n",
    "\n",
    "# Z-score Outlier Detection and Handling\n",
    "for i in Column:\n",
    "    col = i\n",
    "    lower_limit = data[col].mean() - 3 * data[col].std()\n",
    "    upper_limit = data[col].mean() + 3 * data[col].std()\n",
    "\n",
    "    data[col] = np.where(\n",
    "        data[col] > upper_limit,\n",
    "        upper_limit,\n",
    "        np.where(\n",
    "            data[col] < lower_limit,\n",
    "            lower_limit,\n",
    "            data[col]\n",
    "        )\n",
    "    )\n",
    "\n",
    "X = data.drop(['Class'], axis=1)\n",
    "Y = data['Class']"
   ]
  },
  {
   "cell_type": "code",
   "execution_count": 3,
   "id": "c035eb2f-9520-4561-bea1-5883a56d0a89",
   "metadata": {},
   "outputs": [],
   "source": [
    "accuracy = []\n",
    "precision = []\n",
    "recall = []\n",
    "f1_score = []\n",
    "roc_auc = []"
   ]
  },
  {
   "cell_type": "markdown",
   "id": "e0a7efb4-8650-4b25-b114-e62957511454",
   "metadata": {},
   "source": [
    "# **Support Vector Machine with 10-fold CV**"
   ]
  },
  {
   "cell_type": "code",
   "execution_count": 4,
   "id": "d68f5dca-230a-4cce-af3c-84cc17f95917",
   "metadata": {},
   "outputs": [
    {
     "name": "stdout",
     "output_type": "stream",
     "text": [
      "Evaluation metrics for Logistic Regression:\n",
      "\n"
     ]
    },
    {
     "name": "stderr",
     "output_type": "stream",
     "text": [
      "C:\\ProgramData\\Anaconda3\\lib\\site-packages\\sklearn\\metrics\\_classification.py:1318: UndefinedMetricWarning: Precision is ill-defined and being set to 0.0 in labels with no predicted samples. Use `zero_division` parameter to control this behavior.\n",
      "  _warn_prf(average, modifier, msg_start, len(result))\n",
      "C:\\ProgramData\\Anaconda3\\lib\\site-packages\\sklearn\\metrics\\_classification.py:1318: UndefinedMetricWarning: Precision is ill-defined and being set to 0.0 in labels with no predicted samples. Use `zero_division` parameter to control this behavior.\n",
      "  _warn_prf(average, modifier, msg_start, len(result))\n"
     ]
    }
   ],
   "source": [
    "from sklearn.pipeline import Pipeline\n",
    "from sklearn.preprocessing import StandardScaler\n",
    "from sklearn.svm import SVC\n",
    "\n",
    "pl_svm = Pipeline(steps=[('scaler',StandardScaler()),\n",
    "                             ('pl_svm', SVC(probability=True))])\n",
    "\n",
    "print('Evaluation metrics for Logistic Regression:\\n')\n",
    "scores = cross_val_score(pl_svm, X, Y, cv=10, scoring='accuracy')\n",
    "# print('Accuracy: ', scores.mean())\n",
    "\n",
    "precision_weighted = cross_val_score(pl_svm, X, Y, cv=10, scoring='precision_weighted')\n",
    "# print('precision_weighted: ', precision_weighted.mean())\n",
    "\n",
    "recall_weighted = cross_val_score(pl_svm, X, Y, cv=10, scoring='recall_weighted')\n",
    "# print('recall_weighted: ', recall_weighted.mean())\n",
    "\n",
    "f1_weighted = cross_val_score(pl_svm, X, Y, cv=10, scoring='f1_weighted')\n",
    "# print('F1 Weighted: ', f1_weighted.mean())\n",
    "\n",
    "roc_auc_ovr_weighted = cross_val_score(pl_svm, X, Y, cv=10, scoring='roc_auc_ovr_weighted')\n",
    "# print('roc_auc_ovr_weighted: ', roc_auc_ovr_weighted.mean())\n",
    "\n",
    "accuracy.append(scores.mean())\n",
    "precision.append(precision_weighted.mean())\n",
    "recall.append(recall_weighted.mean())\n",
    "f1_score.append(f1_weighted.mean())\n",
    "roc_auc.append(roc_auc_ovr_weighted.mean())\n",
    "\n",
    "# results = {'Metrics': ['Accuracy (Weighted)', 'Precision (Weighted)', 'Recall (Weighted)', 'F1 Score (Weighted)', 'ROC AUC OVR (Weighted)'],\n",
    "#            'Score': [scores.mean(), precision_weighted.mean(), recall_weighted.mean(), f1_weighted.mean(), roc_auc_ovr_weighted.mean()]}\n",
    "\n",
    "# df = pd.DataFrame(results)\n",
    "\n",
    "# print(df)"
   ]
  },
  {
   "cell_type": "markdown",
   "id": "0fde9a5c-1498-4719-9620-826212bcad49",
   "metadata": {},
   "source": [
    "# **Logistic Regression with 10-fold CV**"
   ]
  },
  {
   "cell_type": "code",
   "execution_count": 5,
   "id": "3a7c7c5f-8dd9-4280-b4b7-b9af06982eaf",
   "metadata": {},
   "outputs": [
    {
     "name": "stdout",
     "output_type": "stream",
     "text": [
      "Evaluation metrics for Logistic Regression:\n",
      "\n"
     ]
    },
    {
     "name": "stderr",
     "output_type": "stream",
     "text": [
      "C:\\ProgramData\\Anaconda3\\lib\\site-packages\\sklearn\\metrics\\_classification.py:1318: UndefinedMetricWarning: Precision is ill-defined and being set to 0.0 in labels with no predicted samples. Use `zero_division` parameter to control this behavior.\n",
      "  _warn_prf(average, modifier, msg_start, len(result))\n",
      "C:\\ProgramData\\Anaconda3\\lib\\site-packages\\sklearn\\metrics\\_classification.py:1318: UndefinedMetricWarning: Precision is ill-defined and being set to 0.0 in labels with no predicted samples. Use `zero_division` parameter to control this behavior.\n",
      "  _warn_prf(average, modifier, msg_start, len(result))\n",
      "C:\\ProgramData\\Anaconda3\\lib\\site-packages\\sklearn\\metrics\\_classification.py:1318: UndefinedMetricWarning: Precision is ill-defined and being set to 0.0 in labels with no predicted samples. Use `zero_division` parameter to control this behavior.\n",
      "  _warn_prf(average, modifier, msg_start, len(result))\n",
      "C:\\ProgramData\\Anaconda3\\lib\\site-packages\\sklearn\\metrics\\_classification.py:1318: UndefinedMetricWarning: Precision is ill-defined and being set to 0.0 in labels with no predicted samples. Use `zero_division` parameter to control this behavior.\n",
      "  _warn_prf(average, modifier, msg_start, len(result))\n"
     ]
    },
    {
     "name": "stdout",
     "output_type": "stream",
     "text": [
      "                  Metrics     Score\n",
      "0     Accuracy (Weighted)  0.909271\n",
      "1    Precision (Weighted)  0.910325\n",
      "2       Recall (Weighted)  0.909271\n",
      "3     F1 Score (Weighted)  0.899689\n",
      "4  ROC AUC OVR (Weighted)  0.975798\n"
     ]
    }
   ],
   "source": [
    "from sklearn.pipeline import Pipeline\n",
    "from sklearn.preprocessing import StandardScaler\n",
    "from sklearn.linear_model import LogisticRegression\n",
    "\n",
    "\n",
    "pl_log_reg = Pipeline(steps=[('scaler',StandardScaler()),\n",
    "                             ('log_reg', LogisticRegression(multi_class='multinomial'))])\n",
    "\n",
    "print('Evaluation metrics for Logistic Regression:\\n')\n",
    "scores = cross_val_score(pl_log_reg, X, Y, cv=10, scoring='accuracy')\n",
    "# print('Accuracy: ', scores.mean())\n",
    "\n",
    "precision_weighted = cross_val_score(pl_log_reg, X, Y, cv=10, scoring='precision_weighted')\n",
    "# print('precision_weighted: ', precision_weighted.mean())\n",
    "\n",
    "recall_weighted = cross_val_score(pl_log_reg, X, Y, cv=10, scoring='recall_weighted')\n",
    "# print('recall_weighted: ', recall_weighted.mean())\n",
    "\n",
    "f1_weighted = cross_val_score(pl_log_reg, X, Y, cv=10, scoring='f1_weighted')\n",
    "# print('F1 Weighted: ', f1_weighted.mean())\n",
    "\n",
    "roc_auc_ovr_weighted = cross_val_score(pl_log_reg, X, Y, cv=10, scoring='roc_auc_ovr_weighted')\n",
    "# print('roc_auc_ovr_weighted: ', roc_auc_ovr_weighted.mean())\n",
    "\n",
    "accuracy.append(scores.mean())\n",
    "precision.append(precision_weighted.mean())\n",
    "recall.append(recall_weighted.mean())\n",
    "f1_score.append(f1_weighted.mean())\n",
    "roc_auc.append(roc_auc_ovr_weighted.mean())\n",
    "\n",
    "results = {'Metrics': ['Accuracy (Weighted)', 'Precision (Weighted)', 'Recall (Weighted)', 'F1 Score (Weighted)', 'ROC AUC OVR (Weighted)'],\n",
    "           'Score': [scores.mean(), precision_weighted.mean(), recall_weighted.mean(), f1_weighted.mean(), roc_auc_ovr_weighted.mean()]}\n",
    "\n",
    "df = pd.DataFrame(results)\n",
    "\n",
    "print(df)"
   ]
  },
  {
   "cell_type": "markdown",
   "id": "d40a6f3f-3fed-49a8-9bbe-d5a060d72af5",
   "metadata": {},
   "source": [
    "# **K Nearest Neighbor with 10-fold CV**"
   ]
  },
  {
   "cell_type": "code",
   "execution_count": 6,
   "id": "09420153-bb53-40ab-838e-984b976151b4",
   "metadata": {},
   "outputs": [
    {
     "name": "stdout",
     "output_type": "stream",
     "text": [
      "Evaluation metrics for Logistic Regression:\n",
      "\n"
     ]
    },
    {
     "data": {
      "text/html": [
       "<div>\n",
       "<style scoped>\n",
       "    .dataframe tbody tr th:only-of-type {\n",
       "        vertical-align: middle;\n",
       "    }\n",
       "\n",
       "    .dataframe tbody tr th {\n",
       "        vertical-align: top;\n",
       "    }\n",
       "\n",
       "    .dataframe thead th {\n",
       "        text-align: right;\n",
       "    }\n",
       "</style>\n",
       "<table border=\"1\" class=\"dataframe\">\n",
       "  <thead>\n",
       "    <tr style=\"text-align: right;\">\n",
       "      <th></th>\n",
       "      <th>Metrics</th>\n",
       "      <th>SVM</th>\n",
       "      <th>LR</th>\n",
       "      <th>KNN</th>\n",
       "    </tr>\n",
       "  </thead>\n",
       "  <tbody>\n",
       "    <tr>\n",
       "      <th>0</th>\n",
       "      <td>Accuracy (Weighted)</td>\n",
       "      <td>0.908081</td>\n",
       "      <td>0.909271</td>\n",
       "      <td>0.894725</td>\n",
       "    </tr>\n",
       "    <tr>\n",
       "      <th>1</th>\n",
       "      <td>Precision (Weighted)</td>\n",
       "      <td>0.920553</td>\n",
       "      <td>0.910325</td>\n",
       "      <td>0.920636</td>\n",
       "    </tr>\n",
       "    <tr>\n",
       "      <th>2</th>\n",
       "      <td>Recall (Weighted)</td>\n",
       "      <td>0.908081</td>\n",
       "      <td>0.909271</td>\n",
       "      <td>0.894725</td>\n",
       "    </tr>\n",
       "    <tr>\n",
       "      <th>3</th>\n",
       "      <td>F1 Score (Weighted)</td>\n",
       "      <td>0.902937</td>\n",
       "      <td>0.899689</td>\n",
       "      <td>0.896307</td>\n",
       "    </tr>\n",
       "    <tr>\n",
       "      <th>4</th>\n",
       "      <td>ROC AUC OVR (Weighted)</td>\n",
       "      <td>0.968107</td>\n",
       "      <td>0.975798</td>\n",
       "      <td>0.945213</td>\n",
       "    </tr>\n",
       "  </tbody>\n",
       "</table>\n",
       "</div>"
      ],
      "text/plain": [
       "                  Metrics       SVM        LR       KNN\n",
       "0     Accuracy (Weighted)  0.908081  0.909271  0.894725\n",
       "1    Precision (Weighted)  0.920553  0.910325  0.920636\n",
       "2       Recall (Weighted)  0.908081  0.909271  0.894725\n",
       "3     F1 Score (Weighted)  0.902937  0.899689  0.896307\n",
       "4  ROC AUC OVR (Weighted)  0.968107  0.975798  0.945213"
      ]
     },
     "execution_count": 6,
     "metadata": {},
     "output_type": "execute_result"
    }
   ],
   "source": [
    "from sklearn.pipeline import Pipeline\n",
    "from sklearn.preprocessing import StandardScaler\n",
    "from sklearn.neighbors import KNeighborsClassifier\n",
    "\n",
    "pl_knn = Pipeline(steps=[('scaler',StandardScaler()),\n",
    "                             ('pl_knn', KNeighborsClassifier())])\n",
    "\n",
    "print('Evaluation metrics for Logistic Regression:\\n')\n",
    "scores = cross_val_score(pl_knn, X, Y, cv=10, scoring='accuracy')\n",
    "# print('Accuracy: ', scores.mean())\n",
    "\n",
    "precision_weighted = cross_val_score(pl_knn, X, Y, cv=10, scoring='precision_weighted')\n",
    "# print('precision_weighted: ', precision_weighted.mean())\n",
    "\n",
    "recall_weighted = cross_val_score(pl_knn, X, Y, cv=10, scoring='recall_weighted')\n",
    "# print('recall_weighted: ', recall_weighted.mean())\n",
    "\n",
    "f1_weighted = cross_val_score(pl_knn, X, Y, cv=10, scoring='f1_weighted')\n",
    "# print('F1 Weighted: ', f1_weighted.mean())\n",
    "\n",
    "roc_auc_ovr_weighted = cross_val_score(pl_knn, X, Y, cv=10, scoring='roc_auc_ovr_weighted')\n",
    "# print('roc_auc_ovr_weighted: ', roc_auc_ovr_weighted.mean())\n",
    "\n",
    "accuracy.append(scores.mean())\n",
    "precision.append(precision_weighted.mean())\n",
    "recall.append(recall_weighted.mean())\n",
    "f1_score.append(f1_weighted.mean())\n",
    "roc_auc.append(roc_auc_ovr_weighted.mean())\n",
    "\n",
    "results = {'Metrics': ['Accuracy (Weighted)', 'Precision (Weighted)', 'Recall (Weighted)', 'F1 Score (Weighted)', 'ROC AUC OVR (Weighted)'],\n",
    "           'SVM': [accuracy[0], precision[0], recall[0], f1_score[0], roc_auc[0]],\n",
    "          'LR': [accuracy[1], precision[1], recall[1], f1_score[1], roc_auc[1]],\n",
    "          'KNN': [accuracy[2], precision[2], recall[2], f1_score[2], roc_auc[2]]}\n",
    "\n",
    "df = pd.DataFrame(results)\n",
    "\n",
    "df"
   ]
  },
  {
   "cell_type": "code",
   "execution_count": 7,
   "id": "4ffe3d00-5d63-4cd0-884f-9ef4a181982d",
   "metadata": {},
   "outputs": [],
   "source": [
    "df.to_csv('Result Based on Extremely Imbalance Dataset with 10-fold CV.csv', index=False)"
   ]
  },
  {
   "cell_type": "code",
   "execution_count": null,
   "id": "9a1cc7d0-f434-4329-ae99-dae5a9e74f17",
   "metadata": {},
   "outputs": [],
   "source": []
  }
 ],
 "metadata": {
  "kernelspec": {
   "display_name": "Python 3 (ipykernel)",
   "language": "python",
   "name": "python3"
  },
  "language_info": {
   "codemirror_mode": {
    "name": "ipython",
    "version": 3
   },
   "file_extension": ".py",
   "mimetype": "text/x-python",
   "name": "python",
   "nbconvert_exporter": "python",
   "pygments_lexer": "ipython3",
   "version": "3.9.12"
  }
 },
 "nbformat": 4,
 "nbformat_minor": 5
}
